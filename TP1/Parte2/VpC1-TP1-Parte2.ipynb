{
 "cells": [
  {
   "cell_type": "markdown",
   "id": "3d54ad01",
   "metadata": {},
   "source": [
    "\n",
    "\n",
    "# Visión por Computadora I #\n",
    "\n",
    "## CEIA 21Co2025 ##\n",
    "\n",
    "## TP1 - Parte 2 ##\n",
    "\n",
    "José Luis Diaz (diazjoseluis@gmail.com)\n",
    "\n",
    "Ricardo Silvera (rsilvera@thalu.com.ar)\n",
    "\n",
    "José Aviani (jose.aviani@gmail.com)\n"
   ]
  },
  {
   "cell_type": "markdown",
   "id": "a40a31f6",
   "metadata": {},
   "source": [
    "---"
   ]
  },
  {
   "cell_type": "markdown",
   "id": "196e6798",
   "metadata": {},
   "source": [
    "Importar librerias:"
   ]
  },
  {
   "cell_type": "code",
   "execution_count": null,
   "id": "1104cdcb",
   "metadata": {},
   "outputs": [],
   "source": [
    "%pip install cv\n",
    "%pip install numpy\n",
    "%pip install matplotlib"
   ]
  },
  {
   "cell_type": "code",
   "execution_count": null,
   "id": "f29b5605",
   "metadata": {},
   "outputs": [],
   "source": [
    "import cv2 as cv\n",
    "import numpy as np\n",
    "import matplotlib.pyplot as plt"
   ]
  },
  {
   "cell_type": "markdown",
   "id": "7373dcd7",
   "metadata": {},
   "source": [
    "Leer imágenes:"
   ]
  },
  {
   "cell_type": "code",
   "execution_count": null,
   "id": "e9349026",
   "metadata": {},
   "outputs": [],
   "source": [
    "def read_gray(path: str) -> np.ndarray:\n",
    "    \"\"\"Lee imagen en escala de grises\"\"\"\n",
    "    img = cv.imread(path, cv.IMREAD_GRAYSCALE)\n",
    "    if img is None:\n",
    "        raise ValueError(f\"No se pudo leer {path}\")\n",
    "    return img\n",
    "\n",
    "img1 = read_gray(\"./data/img1_tp.png\")\n",
    "img2 = read_gray(\"./data/img2_tp.png\")"
   ]
  },
  {
   "cell_type": "markdown",
   "id": "270ad947",
   "metadata": {},
   "source": [
    "Visualizar imágenes:"
   ]
  },
  {
   "cell_type": "code",
   "execution_count": null,
   "id": "e14be8b3",
   "metadata": {},
   "outputs": [],
   "source": [
    "plt.figure(figsize=(10,5))\n",
    "\n",
    "plt.subplot(1,2,1)\n",
    "plt.imshow(img1, cmap='gray')\n",
    "plt.title(\"img1_tp.png\")\n",
    "plt.axis(\"off\")\n",
    "\n",
    "plt.subplot(1,2,2)\n",
    "plt.imshow(img2, cmap='gray')\n",
    "plt.title(\"img2_tp.png\")\n",
    "plt.axis(\"off\")\n",
    "\n",
    "plt.show()"
   ]
  },
  {
   "cell_type": "markdown",
   "id": "335afcf3",
   "metadata": {},
   "source": [
    "Calcular histográmas y compararlos para diferentes *bins*:"
   ]
  },
  {
   "cell_type": "code",
   "execution_count": null,
   "id": "4ebf2698",
   "metadata": {},
   "outputs": [],
   "source": [
    "def analizar_imagenes(bins):\n",
    "\n",
    "  # Calcular histogramas\n",
    "\n",
    "  def compute_histogram(img, bins):\n",
    "      hist, edges = np.histogram(img.ravel(), bins=bins, range=(0,256))\n",
    "      hist = hist.astype(np.float32)\n",
    "      hist /= hist.sum()\n",
    "      centers = (edges[:-1] + edges[1:]) / 2\n",
    "      return centers, hist\n",
    "  \n",
    "  print(\"-\" * 150)\n",
    "\n",
    "  c1, h1 = compute_histogram(img1, bins)\n",
    "  c2, h2 = compute_histogram(img2, bins)\n",
    "\n",
    "  # Visualizar histogramas\n",
    "  plt.figure(figsize=(12,5))\n",
    "\n",
    "  plt.subplot(1,2,1)\n",
    "  plt.bar(c1, h1, width=(256/32), color=\"gray\")\n",
    "  plt.title(f\"Histograma - img1_tp.png - Bins: {bins}\")\n",
    "  plt.xlabel(\"Intensidad (0-255)\")\n",
    "  plt.ylabel(\"Frecuencia normalizada\")\n",
    "\n",
    "  plt.subplot(1,2,2)\n",
    "  plt.bar(c2, h2, width=(256/32), color=\"gray\")\n",
    "  plt.title(f\"Histograma - img2_tp.png - Bins: {bins}\")\n",
    "  plt.xlabel(\"Intensidad (0-255)\")\n",
    "  plt.ylabel(\"Frecuencia normalizada\")\n",
    "\n",
    "  plt.tight_layout()\n",
    "  plt.show()\n",
    "\n",
    "\n",
    "  # Comparación de histográmas\n",
    "  plt.figure(figsize=(7,5))\n",
    "  plt.plot(c1, h1, label=\"Imagen 1\", color=\"blue\")\n",
    "  plt.plot(c2, h2, label=\"Imagen 2\", color=\"red\", linestyle=\"--\")\n",
    "  plt.title(f\"Comparación de histogramas - Bins: {bins}\")\n",
    "  plt.xlabel(\"Intensidad (0-255)\")\n",
    "  plt.ylabel(\"Frecuencia normalizada\")\n",
    "  plt.legend()\n",
    "  plt.show()\n",
    "\n",
    "  print(\"-\" * 150)"
   ]
  },
  {
   "cell_type": "code",
   "execution_count": null,
   "id": "7167d081",
   "metadata": {},
   "outputs": [],
   "source": [
    "arr_bins = [4, 16, 32, 64, 128]\n",
    "\n",
    "for bins in arr_bins:\n",
    "    analizar_imagenes(bins)"
   ]
  },
  {
   "cell_type": "markdown",
   "id": "d7e09750",
   "metadata": {},
   "source": [
    "### Conclusiones: ###\n",
    "\n",
    "Para los diferentes bins utilizados el resultado es el mismo: el histograma de ambas imágenes es exactamente igual. Esto se debe a que:\n",
    "\n",
    "* Ambas imágenes cubren el mismo rango de intensidades (0–255).\n",
    "\n",
    "* La distribución de píxeles por nivel de gris termina siendo equivalente a normalizar.\n",
    "\n",
    "* Esto sucede porque el histograma ignora la disposición espacial de los píxeles: ambas imágenes tienen la misma cantidad total de grises, aunque la organización sea distinta.\n",
    "\n",
    "<br />\n",
    "\n",
    "Un histograma global de intensidades no es suficiente como *feature* para clasificación/detección de objetos reales, porque:\n",
    "\n",
    "* Pierde toda la información espacial.\n",
    "\n",
    "* Es muy sensible a cambios de iluminación y contraste.\n",
    "\n",
    "<br />\n",
    "\n",
    "Un histograma sí puede ser útil para tareas muy simples donde lo que importa es el brillo global o el contraste, por ejemplo:\n",
    "\n",
    "* Clasificar imágenes nocturnas vs diurnas.\n",
    "\n",
    "* Detectar radiografías sobreexpuestas.\n",
    "\n",
    "* Distinguir materiales con tonalidades muy distintas.\n",
    "\n",
    "También cuando se usan variantes más avanzadas:\n",
    "\n",
    "* Histogramas de color en RGB/HSV para distinguir.\n",
    "\n",
    "* Histogramas locales por bloques (spatial pyramids), que sí capturan diferencias entre un gradiente y una flor.\n",
    "\n",
    "* Histogramas de gradientes (HOG) que ya incorporan información espacial de bordes y texturas.\n",
    "\n",
    "---"
   ]
  }
 ],
 "metadata": {
  "kernelspec": {
   "display_name": "VpC1",
   "language": "python",
   "name": "vpc1"
  },
  "language_info": {
   "codemirror_mode": {
    "name": "ipython",
    "version": 3
   },
   "file_extension": ".py",
   "mimetype": "text/x-python",
   "name": "python",
   "nbconvert_exporter": "python",
   "pygments_lexer": "ipython3",
   "version": "3.11.9"
  }
 },
 "nbformat": 4,
 "nbformat_minor": 5
}
